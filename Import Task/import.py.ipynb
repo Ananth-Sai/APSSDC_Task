{
 "cells": [
  {
   "cell_type": "code",
   "execution_count": 1,
   "id": "62f222ec",
   "metadata": {},
   "outputs": [
    {
     "name": "stdout",
     "output_type": "stream",
     "text": [
      "5\n",
      "6\n",
      "Sum of both is : 11\n"
     ]
    }
   ],
   "source": [
    "import add\n",
    "a=int(input())\n",
    "b=int(input())\n",
    "print(\"Sum of both is : {}\".format(add.add(a,b)))"
   ]
  },
  {
   "cell_type": "code",
   "execution_count": 2,
   "id": "1ce47dd0",
   "metadata": {},
   "outputs": [
    {
     "name": "stdout",
     "output_type": "stream",
     "text": [
      "9\n",
      "6\n",
      "Subtraction of both is : 3\n"
     ]
    }
   ],
   "source": [
    "import sub\n",
    "a=int(input())\n",
    "b=int(input())\n",
    "print(\"Subtraction of both is : {}\".format(sub.sub(a,b)))"
   ]
  },
  {
   "cell_type": "code",
   "execution_count": 5,
   "id": "4584b145",
   "metadata": {},
   "outputs": [
    {
     "name": "stdout",
     "output_type": "stream",
     "text": [
      "2\n",
      "5\n",
      "multiplication of both is : 10\n"
     ]
    }
   ],
   "source": [
    "import multi\n",
    "a=int(input())\n",
    "b=int(input())\n",
    "print(\"multiplication of both is : {}\".format(multi.mul(a,b)))"
   ]
  },
  {
   "cell_type": "code",
   "execution_count": 15,
   "id": "c19d47ec",
   "metadata": {},
   "outputs": [],
   "source": [
    "class a:\n",
    "    def add(a,b):\n",
    "        return a+b\n",
    "    def sub(a,b):\n",
    "        return a-b\n",
    "    def mul(a,b):\n",
    "        return a*b\n",
    "    def div(a,b):\n",
    "        return a/b"
   ]
  },
  {
   "cell_type": "code",
   "execution_count": 16,
   "id": "5229fbef",
   "metadata": {},
   "outputs": [
    {
     "name": "stdout",
     "output_type": "stream",
     "text": [
      "55\n",
      "22\n"
     ]
    },
    {
     "data": {
      "text/plain": [
       "77"
      ]
     },
     "execution_count": 16,
     "metadata": {},
     "output_type": "execute_result"
    }
   ],
   "source": [
    "cal=a\n",
    "a=int(input())\n",
    "b=int(input())\n",
    "cal.add(a,b)"
   ]
  },
  {
   "cell_type": "code",
   "execution_count": 17,
   "id": "a6aedd70",
   "metadata": {},
   "outputs": [
    {
     "data": {
      "text/plain": [
       "33"
      ]
     },
     "execution_count": 17,
     "metadata": {},
     "output_type": "execute_result"
    }
   ],
   "source": [
    "cal.sub(a,b)"
   ]
  },
  {
   "cell_type": "code",
   "execution_count": 18,
   "id": "7a6e412a",
   "metadata": {},
   "outputs": [
    {
     "data": {
      "text/plain": [
       "1210"
      ]
     },
     "execution_count": 18,
     "metadata": {},
     "output_type": "execute_result"
    }
   ],
   "source": [
    "cal.mul(a,b)"
   ]
  },
  {
   "cell_type": "code",
   "execution_count": 19,
   "id": "a72ea3d4",
   "metadata": {},
   "outputs": [
    {
     "data": {
      "text/plain": [
       "2.5"
      ]
     },
     "execution_count": 19,
     "metadata": {},
     "output_type": "execute_result"
    }
   ],
   "source": [
    "cal.div(a,b)"
   ]
  },
  {
   "cell_type": "code",
   "execution_count": null,
   "id": "ba6631c1",
   "metadata": {},
   "outputs": [],
   "source": []
  }
 ],
 "metadata": {
  "kernelspec": {
   "display_name": "Python 3",
   "language": "python",
   "name": "python3"
  },
  "language_info": {
   "codemirror_mode": {
    "name": "ipython",
    "version": 3
   },
   "file_extension": ".py",
   "mimetype": "text/x-python",
   "name": "python",
   "nbconvert_exporter": "python",
   "pygments_lexer": "ipython3",
   "version": "3.9.5"
  }
 },
 "nbformat": 4,
 "nbformat_minor": 5
}
